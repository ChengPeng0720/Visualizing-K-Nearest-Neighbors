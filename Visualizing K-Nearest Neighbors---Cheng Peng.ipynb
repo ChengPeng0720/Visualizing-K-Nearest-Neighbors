{
 "cells": [
  {
   "cell_type": "code",
   "execution_count": 1,
   "metadata": {},
   "outputs": [],
   "source": [
    "import numpy as np\n",
    "import math\n",
    "import pandas as pd\n",
    "import matplotlib.pyplot as plt\n",
    "%matplotlib inline"
   ]
  },
  {
   "cell_type": "markdown",
   "metadata": {},
   "source": [
    "# Load Dataset"
   ]
  },
  {
   "cell_type": "code",
   "execution_count": 2,
   "metadata": {},
   "outputs": [],
   "source": [
    "# Noticed that some cells contain the symbol \"?\". Set them as NA values\n",
    "Adultdata = pd.read_csv('http://archive.ics.uci.edu/ml/machine-learning-databases/adult/adult.data',\n",
    "    na_values=[' ?'], header=None)\n",
    "\n",
    "# Drop rows with NA values\n",
    "Adultdata = Adultdata.dropna()"
   ]
  },
  {
   "cell_type": "code",
   "execution_count": 3,
   "metadata": {},
   "outputs": [
    {
     "data": {
      "text/html": [
       "<div>\n",
       "<style scoped>\n",
       "    .dataframe tbody tr th:only-of-type {\n",
       "        vertical-align: middle;\n",
       "    }\n",
       "\n",
       "    .dataframe tbody tr th {\n",
       "        vertical-align: top;\n",
       "    }\n",
       "\n",
       "    .dataframe thead th {\n",
       "        text-align: right;\n",
       "    }\n",
       "</style>\n",
       "<table border=\"1\" class=\"dataframe\">\n",
       "  <thead>\n",
       "    <tr style=\"text-align: right;\">\n",
       "      <th></th>\n",
       "      <th>age</th>\n",
       "      <th>workclass</th>\n",
       "      <th>fnlwgt</th>\n",
       "      <th>education</th>\n",
       "      <th>education-num</th>\n",
       "      <th>marital-status</th>\n",
       "      <th>occupation</th>\n",
       "      <th>relationship</th>\n",
       "      <th>race</th>\n",
       "      <th>sex</th>\n",
       "      <th>capital-gain</th>\n",
       "      <th>capital-loss</th>\n",
       "      <th>hours-per-week</th>\n",
       "      <th>native-country</th>\n",
       "      <th>wage</th>\n",
       "    </tr>\n",
       "  </thead>\n",
       "  <tbody>\n",
       "    <tr>\n",
       "      <th>0</th>\n",
       "      <td>39</td>\n",
       "      <td>State-gov</td>\n",
       "      <td>77516</td>\n",
       "      <td>Bachelors</td>\n",
       "      <td>13</td>\n",
       "      <td>Never-married</td>\n",
       "      <td>Adm-clerical</td>\n",
       "      <td>Not-in-family</td>\n",
       "      <td>White</td>\n",
       "      <td>Male</td>\n",
       "      <td>2174</td>\n",
       "      <td>0</td>\n",
       "      <td>40</td>\n",
       "      <td>United-States</td>\n",
       "      <td>&lt;=50K</td>\n",
       "    </tr>\n",
       "    <tr>\n",
       "      <th>1</th>\n",
       "      <td>50</td>\n",
       "      <td>Self-emp-not-inc</td>\n",
       "      <td>83311</td>\n",
       "      <td>Bachelors</td>\n",
       "      <td>13</td>\n",
       "      <td>Married-civ-spouse</td>\n",
       "      <td>Exec-managerial</td>\n",
       "      <td>Husband</td>\n",
       "      <td>White</td>\n",
       "      <td>Male</td>\n",
       "      <td>0</td>\n",
       "      <td>0</td>\n",
       "      <td>13</td>\n",
       "      <td>United-States</td>\n",
       "      <td>&lt;=50K</td>\n",
       "    </tr>\n",
       "    <tr>\n",
       "      <th>2</th>\n",
       "      <td>38</td>\n",
       "      <td>Private</td>\n",
       "      <td>215646</td>\n",
       "      <td>HS-grad</td>\n",
       "      <td>9</td>\n",
       "      <td>Divorced</td>\n",
       "      <td>Handlers-cleaners</td>\n",
       "      <td>Not-in-family</td>\n",
       "      <td>White</td>\n",
       "      <td>Male</td>\n",
       "      <td>0</td>\n",
       "      <td>0</td>\n",
       "      <td>40</td>\n",
       "      <td>United-States</td>\n",
       "      <td>&lt;=50K</td>\n",
       "    </tr>\n",
       "    <tr>\n",
       "      <th>3</th>\n",
       "      <td>53</td>\n",
       "      <td>Private</td>\n",
       "      <td>234721</td>\n",
       "      <td>11th</td>\n",
       "      <td>7</td>\n",
       "      <td>Married-civ-spouse</td>\n",
       "      <td>Handlers-cleaners</td>\n",
       "      <td>Husband</td>\n",
       "      <td>Black</td>\n",
       "      <td>Male</td>\n",
       "      <td>0</td>\n",
       "      <td>0</td>\n",
       "      <td>40</td>\n",
       "      <td>United-States</td>\n",
       "      <td>&lt;=50K</td>\n",
       "    </tr>\n",
       "    <tr>\n",
       "      <th>4</th>\n",
       "      <td>28</td>\n",
       "      <td>Private</td>\n",
       "      <td>338409</td>\n",
       "      <td>Bachelors</td>\n",
       "      <td>13</td>\n",
       "      <td>Married-civ-spouse</td>\n",
       "      <td>Prof-specialty</td>\n",
       "      <td>Wife</td>\n",
       "      <td>Black</td>\n",
       "      <td>Female</td>\n",
       "      <td>0</td>\n",
       "      <td>0</td>\n",
       "      <td>40</td>\n",
       "      <td>Cuba</td>\n",
       "      <td>&lt;=50K</td>\n",
       "    </tr>\n",
       "  </tbody>\n",
       "</table>\n",
       "</div>"
      ],
      "text/plain": [
       "   age          workclass  fnlwgt   education  education-num  \\\n",
       "0   39          State-gov   77516   Bachelors             13   \n",
       "1   50   Self-emp-not-inc   83311   Bachelors             13   \n",
       "2   38            Private  215646     HS-grad              9   \n",
       "3   53            Private  234721        11th              7   \n",
       "4   28            Private  338409   Bachelors             13   \n",
       "\n",
       "        marital-status          occupation    relationship    race      sex  \\\n",
       "0        Never-married        Adm-clerical   Not-in-family   White     Male   \n",
       "1   Married-civ-spouse     Exec-managerial         Husband   White     Male   \n",
       "2             Divorced   Handlers-cleaners   Not-in-family   White     Male   \n",
       "3   Married-civ-spouse   Handlers-cleaners         Husband   Black     Male   \n",
       "4   Married-civ-spouse      Prof-specialty            Wife   Black   Female   \n",
       "\n",
       "   capital-gain  capital-loss  hours-per-week  native-country    wage  \n",
       "0          2174             0              40   United-States   <=50K  \n",
       "1             0             0              13   United-States   <=50K  \n",
       "2             0             0              40   United-States   <=50K  \n",
       "3             0             0              40   United-States   <=50K  \n",
       "4             0             0              40            Cuba   <=50K  "
      ]
     },
     "execution_count": 3,
     "metadata": {},
     "output_type": "execute_result"
    }
   ],
   "source": [
    "# Add corresponding column names to the dataset\n",
    "\n",
    "ColumnNames = ['age','workclass','fnlwgt','education','education-num','marital-status', \n",
    "               'occupation','relationship','race','sex','capital-gain','capital-loss','hours-per-week',\n",
    "               'native-country']\n",
    "\n",
    "# Also need a name for the wage information\n",
    "ColumnNames.append('wage')\n",
    "Adultdata.columns = ColumnNames\n",
    "\n",
    "# View the first few rows of the updated data\n",
    "Adultdata.head()"
   ]
  },
  {
   "cell_type": "markdown",
   "metadata": {},
   "source": [
    "# Visualization 1-2"
   ]
  },
  {
   "cell_type": "code",
   "execution_count": 9,
   "metadata": {},
   "outputs": [
    {
     "name": "stdout",
     "output_type": "stream",
     "text": [
      "High five! You successfully sent some data to your account on plotly. View your plot in your browser at https://plot.ly/~pccavs/0 or inside your plot.ly account where it is named 'Scatter plot matrix'\n"
     ]
    },
    {
     "data": {
      "text/html": [
       "<iframe id=\"igraph\" scrolling=\"no\" style=\"border:none;\" seamless=\"seamless\" src=\"https://plot.ly/~pccavs/0.embed\" height=\"700px\" width=\"700px\"></iframe>"
      ],
      "text/plain": [
       "<plotly.tools.PlotlyDisplay object>"
      ]
     },
     "execution_count": 9,
     "metadata": {},
     "output_type": "execute_result"
    }
   ],
   "source": [
    "# Visualization 1\n",
    "# Explore correlations among continuous variables\n",
    "\n",
    "import plotly\n",
    "import plotly.graph_objs as go\n",
    "import plotly.plotly as py\n",
    "plotly.tools.set_credentials_file(username='pccavs', api_key='CIdalbRPV40NEYEB0lkh')\n",
    "\n",
    "Plotdata = go.Splom(dimensions=[dict(label='age',\n",
    "                                 values=Adultdata['age']),\n",
    "                            dict(label='capital-gain',\n",
    "                                 values=Adultdata['capital-gain']),\n",
    "                            dict(label='capital-loss',\n",
    "                                 values=Adultdata['capital-loss']),\n",
    "                            dict(label='education-num',\n",
    "                                 values=Adultdata['education-num']),\n",
    "                            dict(label='fnlwgt',\n",
    "                                 values=Adultdata['fnlwgt']),\n",
    "                            dict(label='hours-per-week',\n",
    "                                 values=Adultdata['hours-per-week'])])\n",
    "\n",
    "axis = dict(showline=True,\n",
    "          zeroline=False,\n",
    "          gridcolor='#fff',\n",
    "          ticklen=6)\n",
    "\n",
    "layout = go.Layout(\n",
    "    title='Correlation among continuous variables',\n",
    "    dragmode='select',\n",
    "    width=700,\n",
    "    height=700,\n",
    "    autosize=False,\n",
    "    hovermode='closest',\n",
    "    xaxis1=dict(axis),xaxis2=dict(axis),xaxis3=dict(axis),xaxis4=dict(axis),xaxis5=dict(axis),xaxis6=dict(axis),\n",
    "    yaxis1=dict(axis),yaxis2=dict(axis),yaxis3=dict(axis),yaxis4=dict(axis),yaxis5=dict(axis),yaxis6=dict(axis) )  \n",
    "\n",
    "\n",
    "fig1 = dict(data=[Plotdata], layout=layout)\n",
    "py.iplot(fig1, filename = 'Scatter plot matrix')"
   ]
  },
  {
   "cell_type": "markdown",
   "metadata": {},
   "source": [
    "My Visualization 1 applies the Plotly library to draw a scatter plot matrix for showing correlation among continuous variables. I chose the scatter plot matrix as visual encoding since it is built on simple scatter plot but attempts to represent relationships among multiple variables at same time, easily understood by viewers and effective as well (mentioned in slide \"visual encodings\" pg.24). Because of the overlay part in above plot, my visualization also enables viewers to check corresponding (x,y) coordinates when mouse hovering on a point, which is convenient to low-level task such as Query->Identify (mentioned in slide \"tasks\" pg.21).\n",
    "\n",
    "According to the Visualization 1, we can clearly learn the correlation among continuous variables. And if we want to build a ML prediction model, such as predicting hours-per-week based on other variables, it's definitely helpful to remove variables like education-num and age since the above plot shows they are hardly correlated with the predicted variable. So the scatter plot matrix could be guidance for variable selection when building a ML prediction model. "
   ]
  },
  {
   "cell_type": "code",
   "execution_count": 5,
   "metadata": {},
   "outputs": [
    {
     "data": {
      "image/png": "[encoded data removed]",
      "text/plain": [
       "<Figure size 936x576 with 6 Axes>"
      ]
     },
     "metadata": {},
     "output_type": "display_data"
    }
   ],
   "source": [
    "# Visualization 2\n",
    "# View distributions of continuous variables\n",
    "\n",
    "fig, axes = plt.subplots(2, 3, figsize=[13, 8])\n",
    "fig.suptitle('Histograms for continuous variables')\n",
    "Plots = Adultdata.hist(bins=20, ax=axes)"
   ]
  },
  {
   "cell_type": "markdown",
   "metadata": {},
   "source": [
    "My Visualization 2 applies the default \"hist\" command of Pandas library to draw 6 histograms for showing distributions of continuous variables. I chose the histogram as visual encoding since it is widely accepted and straightforward for visualizing the distribution of continuous variable. As we learnt in class, the mark is Lines and the channel is Position (slide \"Marks & Channels\" pg.13). Also the visualization is facted in order to present multiple variables at same time, and viewers can easily examine all distributions without visual interference.\n",
    "\n",
    "According to the Visualization 2, we can clearly learn the distributions of continuous variables. And if we want to build a ML classification model or do cluster analysis, we may assign higher weights to variables age, education-num, fnlwgt and hours-per-week since they have more meaningful distributions, and lower weights to variables capital-gain, capital-loss that with less meaningful distributions."
   ]
  },
  {
   "cell_type": "markdown",
   "metadata": {},
   "source": [
    "# Split the dataset randomly into train/test (80/20)"
   ]
  },
  {
   "cell_type": "code",
   "execution_count": 4,
   "metadata": {},
   "outputs": [],
   "source": [
    "# Create a function to split the dataset randomly into train(80)/test(20)\n",
    "# General idea is: 1.randomly shuffle the rows of dataset 2.Then select the first 80% cases as train set, the \n",
    "# remaining 20% cases as test set\n",
    "\n",
    "def splitData(df):\n",
    "    indexList = np.arange(df.shape[0]) # Get a list for index of rows\n",
    "    np.random.shuffle(indexList) # Shuffle the index for random selection\n",
    "    datalength = len(indexList)\n",
    "    traindata_Length = math.floor((datalength*8)/10)\n",
    "    trainData = df.iloc[indexList[:traindata_Length]] # Extract train data from dataframe\n",
    "    testData = df.iloc[indexList[traindata_Length:]] # Extract test data from the dataframe\n",
    "    return trainData, testData\n",
    "\n",
    "trainData, testData = splitData(Adultdata)"
   ]
  },
  {
   "cell_type": "markdown",
   "metadata": {},
   "source": [
    "# Preprocess the data"
   ]
  },
  {
   "cell_type": "code",
   "execution_count": 5,
   "metadata": {},
   "outputs": [],
   "source": [
    "# Change categorical features into dummies using one-hot encoding, but keep the wage column as original \n",
    "# (need to exclude from one-hot encoding).\n",
    "# And when I read the description of variables, I noticed that variable \"fnlwgt\"(final weight) only applies within\n",
    "# state. So I decide to drop it at the beginning, which will be convenient for the normalization in next step and help\n",
    "# produce better KNN results as well.\n",
    "\n",
    "updatedData = Adultdata.drop(['fnlwgt','wage'], axis=1)\n",
    "updatedData = pd.get_dummies(updatedData)\n",
    "updatedData['wage'] = Adultdata['wage'] # Add wage column back to the updated dataframe"
   ]
  },
  {
   "cell_type": "code",
   "execution_count": 6,
   "metadata": {},
   "outputs": [],
   "source": [
    "# Apply standardization for continuous features, on train set and test set individually.\n",
    "\n",
    "# First we want to find all columns that represent for continuous variables\n",
    "continuousCol = [col for col, datatype in Adultdata.dtypes.items() if col != 'fnlwgt' \n",
    "                and datatype != 'O']\n",
    "\n",
    "# Randomly split data into train and test set, using the function created in previous part.\n",
    "trainData, testData = splitData(updatedData)\n",
    "\n",
    "# Create a function to seperate the wage column\n",
    "def seperateWage(df):\n",
    "    return df.drop('wage',axis=1), df['wage']\n",
    "\n",
    "trainData_input, trainData_wage = seperateWage(trainData)\n",
    "testData_input, testData_wage = seperateWage(testData)\n",
    "\n",
    "# Standardization step for train and test set\n",
    "from sklearn.preprocessing import StandardScaler\n",
    "datascaler = StandardScaler().fit(trainData_input[continuousCol]) # use only information of train data\n",
    "trainData_input[continuousCol] = datascaler.transform(trainData_input[continuousCol])\n",
    "testData_input[continuousCol] = datascaler.transform(testData_input[continuousCol])"
   ]
  },
  {
   "cell_type": "markdown",
   "metadata": {},
   "source": [
    "# Grid Search and Build Optimal KNN-Classifier"
   ]
  },
  {
   "cell_type": "code",
   "execution_count": 18,
   "metadata": {},
   "outputs": [
    {
     "data": {
      "text/plain": [
       "(KNeighborsClassifier(algorithm='auto', leaf_size=30, metric='minkowski',\n",
       "            metric_params=None, n_jobs=1, n_neighbors=9, p=1,\n",
       "            weights='uniform'), 0.8500414250207126)"
      ]
     },
     "execution_count": 18,
     "metadata": {},
     "output_type": "execute_result"
    }
   ],
   "source": [
    "from sklearn.neighbors import KNeighborsClassifier\n",
    "from sklearn.model_selection import cross_val_score\n",
    "\n",
    "# Since we are going to use a grid search over K and p then based on 10 fold CV on the training set \n",
    "# to select the optimal hyperparameters, I chose the cv accuracy score as evaluation metric \n",
    "# for this classification task.\n",
    "\n",
    "# Grid search step:\n",
    "optimal_model = None\n",
    "optimal_score = -float('inf')\n",
    "performance = []\n",
    "\n",
    "# Only use uniform weights\n",
    "for k in range(1,11):\n",
    "    for p in [1, 2]:\n",
    "        knnModel = KNeighborsClassifier(n_neighbors = k, p = p)\n",
    "        scores = cross_val_score(knnModel, trainData_input, trainData_wage, cv = 10, scoring = 'accuracy')\n",
    "        for score in scores:\n",
    "            if score > optimal_score:\n",
    "                optimal_score = score\n",
    "                optimal_model = knnModel\n",
    "            \n",
    "            performance.append({\n",
    "                         'k': k,\n",
    "                         'p': p,\n",
    "                         'score': score\n",
    "                     })\n",
    "\n",
    "optimal_model, optimal_score  # View the optimal model and optimal score"
   ]
  },
  {
   "cell_type": "markdown",
   "metadata": {},
   "source": [
    "Based on the above result, we can find that the optimal k is equal to 9 and optimal p is equal to 1."
   ]
  },
  {
   "cell_type": "markdown",
   "metadata": {},
   "source": [
    "# Visualization 3"
   ]
  },
  {
   "cell_type": "code",
   "execution_count": 68,
   "metadata": {},
   "outputs": [],
   "source": [
    "# Change the performance into a data frame\n",
    "performance = pd.DataFrame(performance)\n",
    "\n",
    "# Only keep the performance records with p = 2\n",
    "updated_perform = performance.loc[performance['p'] == 2]\n",
    "\n",
    "# And we can drop the column 'p' right now since all p values are equal to 2.\n",
    "updated_perform = updated_perform.drop('p', axis=1)"
   ]
  },
  {
   "cell_type": "code",
   "execution_count": 69,
   "metadata": {
    "scrolled": false
   },
   "outputs": [
    {
     "data": {
      "image/png": "[encoded data removed]",
      "text/plain": [
       "<Figure size 864x576 with 1 Axes>"
      ]
     },
     "metadata": {},
     "output_type": "display_data"
    }
   ],
   "source": [
    "# Draw a parallel boxplot (based on values of k) to view performance of the algorithm across various values for K. \n",
    "\n",
    "import seaborn as sns\n",
    "sns.set(style = \"whitegrid\")\n",
    "plt.figure(figsize=(12, 8))\n",
    "plt.title(\"Performance (accuracy score) of the algorithm across various values for K\")\n",
    "Plot = sns.boxplot(x = \"k\", y = \"score\", data = updated_perform)"
   ]
  },
  {
   "cell_type": "markdown",
   "metadata": {},
   "source": [
    "My Visualization 3 applies the boxplot command of seaborn library to draw a parallel boxplot for presenting performance of the algorithm across various values for K. In this part, we are doing 10-fold cv for each value of K, and we actually have 100 score values in total (10 values for each of the 10 values of K). Then a parallel boxplot becomes an appropriate choice for the visual encoding. It can show not only general performance for each K value, but also specific distribution of performance scores with respect to each K value. And the parallel boxplot contributes to high-level task (Consume->Discover, slide \"tasks\" pg.21) as well. For example, we can easily discover that there is a general increase trend for performance scores as K value becomes larger.    "
   ]
  },
  {
   "cell_type": "markdown",
   "metadata": {},
   "source": [
    "# Run on test set"
   ]
  },
  {
   "cell_type": "code",
   "execution_count": 25,
   "metadata": {},
   "outputs": [
    {
     "name": "stdout",
     "output_type": "stream",
     "text": [
      "[' <=50K' ' >50K' ' <=50K' ... ' <=50K' ' <=50K' ' <=50K']\n",
      "The mean accuracy score for the optimal KNN model on test set is 0.836399801093983\n"
     ]
    }
   ],
   "source": [
    "# According to the previous part, we have found that the optimal k is equal to 9 and optimal p is equal to 1.\n",
    "# And in this part, I decide to use the mean accuracy score built in KNeighborsClassifier as evaluation metric \n",
    "# for this classification task.\n",
    "\n",
    "knnModel_optimal = KNeighborsClassifier(n_neighbors = 9, p = 1)\n",
    "knnModel_optimal.fit(trainData_input, trainData_wage)\n",
    "\n",
    "predictedWage = knnModel_optimal.predict(testData_input)\n",
    "print(predictedWage)\n",
    "print(\"The mean accuracy score for the optimal KNN model on test set is\", \n",
    "      knnModel_optimal.score(testData_input, testData_wage))"
   ]
  },
  {
   "cell_type": "code",
   "execution_count": null,
   "metadata": {},
   "outputs": [],
   "source": []
  }
 ],
 "metadata": {
  "kernelspec": {
   "display_name": "Python 3",
   "language": "python",
   "name": "python3"
  },
  "language_info": {
   "codemirror_mode": {
    "name": "ipython",
    "version": 3
   },
   "file_extension": ".py",
   "mimetype": "text/x-python",
   "name": "python",
   "nbconvert_exporter": "python",
   "pygments_lexer": "ipython3",
   "version": "3.6.5"
  }
 },
 "nbformat": 4,
 "nbformat_minor": 2
}
